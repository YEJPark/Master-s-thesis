{
 "cells": [
  {
   "cell_type": "markdown",
   "id": "dfe8055a",
   "metadata": {},
   "source": [
    "# Single-cell RNA-seq Data Preprocessing Pipeline"
   ]
  },
  {
   "cell_type": "markdown",
   "id": "b74ec9d6",
   "metadata": {},
   "source": [
    "\n",
    "This notebook outlines the steps for prerocessing single-cell RNA-seq data, \n",
    "including doublet removal, quality control, normalization, dimensionality reduction, \n",
    "clustering, marker gene identification, and cell type annotation.\n"
   ]
  },
  {
   "cell_type": "code",
   "execution_count": null,
   "id": "6e2b77fe",
   "metadata": {},
   "outputs": [],
   "source": [
    "import pandas as pd\n",
    "import scanpy as sc\n",
    "import torch\n",
    "import scvi\n",
    "import matplotlib.pyplot as plt"
   ]
  },
  {
   "cell_type": "markdown",
   "id": "22b76a6a",
   "metadata": {},
   "source": [
    "## Step 1: Load and preprocess the data"
   ]
  },
  {
   "cell_type": "code",
   "execution_count": null,
   "id": "6b6f4c22",
   "metadata": {},
   "outputs": [],
   "source": [
    "# Load the raw count matrix\n",
    "adata = sc.read_mtx(\"./data/GSE136831_RawCounts_Sparse.mtx\").T # 45947: Number of genes / 312928: Number of cells.\n",
    "\n",
    "# Assign Ensembl Gene IDs from GSE136831_AllCells.GeneIDs.txt to var_names\n",
    "gene_names = pd.read_csv(\"./data/GSE136831_AllCells.GeneIDs.txt\", sep=\"\\t\")[\"HGNC_EnsemblAlt_GeneID\"].values\n",
    "adata.var_names = gene_names\n",
    "\n",
    "# Assign cell barcodes from GSE136831_AllCells.cellBarcodes.txt to obs_names\n",
    "cell_barcodes = pd.read_csv(\"./data/GSE136831_AllCells.cellBarcodes.txt\", header=None).iloc[:, 0].values\n",
    "adata.obs_names = cell_barcodes\n",
    "\n",
    "# Incorporate metadata from GSE136831_AllCells.Samples.CellType.MetadataTable_2.txt into the obs dataframe\n",
    "metadata = pd.read_csv(\"./data/GSE136831_AllCells.Samples.CellType.MetadataTable_2.txt\", sep=\"\\t\", index_col=\"CellBarcode_Identity\")\n",
    "adata.obs = metadata.loc[adata.obs_names]\n",
    "\n",
    "# Ensure that the order of the metadata matches the order of the obs_names\n",
    "assert all(adata.obs.index == adata.obs_names), \"Mismatch between cell barcodes in adata and metadata.\"\n",
    "\n",
    "# Save the preprocessed AnnData object as a checkpoint\n",
    "adata.write('./result/processed_adata.h5ad')"
   ]
  },
  {
   "cell_type": "markdown",
   "id": "976be0b7",
   "metadata": {},
   "source": [
    "## Step 2: Doublet Removal (optional but recommended)"
   ]
  },
  {
   "cell_type": "code",
   "execution_count": null,
   "id": "fa178711",
   "metadata": {},
   "outputs": [],
   "source": [
    "# Select highly variable genes\n",
    "sc.pp.highly_variable_genes(adata, n_top_genes=2000, subset=True, flavor='seurat_v3')\n",
    "\n",
    "# Set the desired GPU\n",
    "torch.cuda.set_device(0)\n",
    "\n",
    "# Setup and train the SCVI model\n",
    "scvi.model.SCVI.setup_anndata(adata)\n",
    "vae = scvi.model.SCVI(adata)\n",
    "vae.train()\n",
    "\n",
    "# Train SOLO for doublet detection\n",
    "solo = scvi.external.SOLO.from_scvi_model(vae)\n",
    "solo.train()\n",
    "\n",
    "# Predict doublets using SOLO\n",
    "df = solo.predict()\n",
    "df['prediction'] = solo.predict(soft=False)\n",
    "df.groupby('prediction').count()\n",
    "df['dif'] = df.doublet - df.singlet\n",
    "sns.displot(df[df.prediction == 'doublet'], x='dif')\n",
    "\n",
    "# Identify and remove doublets\n",
    "doublets = df[(df.prediction == 'doublet') & (df.dif > 1)]\n",
    "adata.obs['doublet'] = adata.obs.index.isin(doublets.index)\n",
    "adata = adata[~adata.obs.doublet]"
   ]
  },
  {
   "cell_type": "markdown",
   "id": "cef481e7",
   "metadata": {},
   "source": [
    "## Step 3: Quality Control"
   ]
  },
  {
   "cell_type": "code",
   "execution_count": null,
   "id": "7d55138f",
   "metadata": {},
   "outputs": [],
   "source": [
    "# Identify mitochondrial and ribosomal genes\n",
    "adata.var['mt'] = adata.var_names.str.startswith('MT-')\n",
    "ribo_url = \"http://software.broadinstitute.org/gsea/msigdb/download_geneset.jsp?geneSetName=KEGG_RIBOSOME&fileType=txt\"\n",
    "ribo_genes = pd.read_table(ribo_url, skiprows=2, header=None)\n",
    "adata.var['ribo'] = adata.var_names.isin(ribo_genes[0].values)\n",
    "\n",
    "# Calculate quality control metrics\n",
    "sc.pp.calculate_qc_metrics(adata, qc_vars=['mt', 'ribo'], percent_top=None, log1p=False, inplace=True)\n",
    "\n",
    "adata.var.sort_values('n_cells_by_counts')\n",
    "\n",
    "# Filter genes and cells based on QC metrics\n",
    "sc.pp.filter_genes(adata, min_cells=3)\n",
    "# adata.var.sort_values('n_cells_by_counts')\n",
    "# adata.obs.sort_values('n_genes_by_counts')\n",
    "# sc.pp.filter_cells(adata, min_genes=200)\n",
    "\n",
    "# Visualize QC metrics\n",
    "sc.pl.violin(adata, ['n_genes_by_counts', 'total_counts', 'pct_counts_mt', 'pct_counts_ribo'], jitter=0.4, multi_panel=True)\n",
    "\n",
    "# Filter out outlier cells based on QC metrics\n",
    "upper_lim = np.quantile(adata.obs['n_genes_by_counts'], 0.98)\n",
    "adata = adata[adata.obs['n_genes_by_counts'] < upper_lim]\n",
    "adata = adata[adata.obs['pct_counts_mt'] < 20]\n",
    "adata = adata[adata.obs['pct_counts_ribo'] < 2]"
   ]
  },
  {
   "cell_type": "markdown",
   "id": "ed22e70e",
   "metadata": {},
   "source": [
    "## Step 4: Normalization"
   ]
  },
  {
   "cell_type": "code",
   "execution_count": null,
   "id": "c0586eec",
   "metadata": {},
   "outputs": [],
   "source": [
    "# Normalize to 10,000 UMI per cell and log transform\n",
    "sc.pp.normalize_total(adata, target_sum=1e4) # normalize every cell to 10,000 UMI\n",
    "sc.pp.log1p(adata)  # change to log counts\n",
    "adata.raw = adata  # Save the original data\n",
    "\n",
    "# Save the processed AnnData object\n",
    "adata.write('./result/GSE136831_double_3.h5ad')\n",
    "\n",
    "### Step 5: Dimensionality Reduction\n",
    "\n",
    "# Identify highly variable genes and perform PCA\n",
    "sc.pp.highly_variable_genes(adata, n_top_genes=2000)\n",
    "adata = adata[:, adata.var.highly_variable]\n",
    "sc.pp.regress_out(adata, ['total_counts', 'pct_counts_mt', 'pct_counts_ribo'])\n",
    "sc.pp.scale(adata, max_value=10)\n",
    "sc.tl.pca(adata, svd_solver='arpack')\n",
    "sc.pl.pca_variance_ratio(adata, log=True, n_pcs=50)"
   ]
  },
  {
   "cell_type": "markdown",
   "id": "5dc24b82",
   "metadata": {},
   "source": [
    "## Step 5: Dimensionality Reduction"
   ]
  },
  {
   "cell_type": "code",
   "execution_count": null,
   "id": "d56a1323",
   "metadata": {},
   "outputs": [],
   "source": [
    "# Identify highly variable genes and perform PCA\n",
    "sc.pp.highly_variable_genes(adata, n_top_genes=2000)\n",
    "adata = adata[:, adata.var.highly_variable]\n",
    "sc.pp.regress_out(adata, ['total_counts', 'pct_counts_mt', 'pct_counts_ribo'])\n",
    "sc.pp.scale(adata, max_value=10)\n",
    "sc.tl.pca(adata, svd_solver='arpack')\n",
    "sc.pl.pca_variance_ratio(adata, log=True, n_pcs=50)"
   ]
  },
  {
   "cell_type": "markdown",
   "id": "5a5b5e9d",
   "metadata": {},
   "source": [
    "## Step 6: Clustering"
   ]
  },
  {
   "cell_type": "code",
   "execution_count": null,
   "id": "b18e3afd",
   "metadata": {},
   "outputs": [],
   "source": [
    "# Compute the neighborhood graph and perform UMAP\n",
    "sc.pp.neighbors(adata, n_pcs=30)\n",
    "sc.tl.umap(adata)\n",
    "sc.pl.umap(adata)\n",
    "\n",
    "# Perform Leiden clustering\n",
    "sc.tl.leiden(adata, resolution=0.5)\n",
    "sc.pl.umap(adata, color = ['leiden'])\n",
    "sc.pl.umap(adata, color = ['leiden'], frameon = False, legend_loc = \"on data\")"
   ]
  },
  {
   "cell_type": "markdown",
   "id": "70a57584",
   "metadata": {},
   "source": [
    "## Step 7: Marker Gene Identification"
   ]
  },
  {
   "cell_type": "code",
   "execution_count": null,
   "id": "aba927d3",
   "metadata": {},
   "outputs": [],
   "source": [
    "# Identify marker genes for each cluster using the Wilcoxon test\n",
    "sc.tl.leiden(adata, resolution=1)\n",
    "sc.tl.rank_genes_groups(adata, 'leiden', method='wilcoxon')\n",
    "markers = sc.get.rank_genes_groups_df(adata, None)\n",
    "markers = markers[(markers.pvals_adj < 0.05) & (markers.logfoldchanges > .5)]\n",
    "\n",
    "# Extract top 5 markers for each group\n",
    "group_markers = {}\n",
    "for group in markers['group'].unique():\n",
    "    group_markers[group] = markers[markers['group'] == group].nlargest(5, 'logfoldchanges')['names'].tolist()\n",
    "\n",
    "# Print top 5 markers for each group\n",
    "for group, top_markers in group_markers.items():\n",
    "    print(f\"Group {group} markers: {', '.join(top_markers)}\")\n",
    "\n",
    "# sc.pl.umap(adata, color = ['EPCAM', 'MUC1'], frameon = False, layer = 'scvi_normalized', vmax = 5)\n",
    "# sc.pl.umap(adata, color = ['AQP1'], frameon = False, vmax = 5)\n",
    "# plt.savefig('filename_2.png')"
   ]
  },
  {
   "cell_type": "markdown",
   "id": "8d7b6988",
   "metadata": {},
   "source": [
    "## Step 8: Cell Type Annotation"
   ]
  },
  {
   "cell_type": "code",
   "execution_count": null,
   "id": "eb242710",
   "metadata": {},
   "outputs": [],
   "source": [
    "# Define cell types for each cluster\n",
    "cell_type = {\n",
    "    '0': 'Macrophage', '1': 'Macrophage_Alveolar', '2': 'ncMonocyte', '3': 'cMonocyte', '4': 'Club',\n",
    "    '6': 'pDC', '7': 'Basal', '8': 'ATII', '9': 'NK', '11': 'cDC2',\n",
    "    '12': 'B_Plasma', '13': 'T_Cytotoxic', '14': 'Ciliated', '15': 'VE_Venous', '16': 'ATI',\n",
    "    '18': 'B', '19': 'T', '5': 'Goblet', '10': 'Mesothelial', '17': 'Pericyte',\n",
    "    '20': 'VE_Peribronchial', '21': 'T_Regulatory', '22': 'Mast', '23': 'ILC_B', '24': 'DC_Langerhans'\n",
    "}\n",
    "\n",
    "# Map cell types to clusters and visualize with UMAP\n",
    "adata.obs['cell type'] = adata.obs.leiden.map(cell_type)\n",
    "\n",
    "# Final UMAP visualization with cell type annotations\n",
    "fig, ax = plt.subplots(figsize=(12, 8))\n",
    "sc.pl.umap(adata, color=['cell type'], frameon=False, ax=ax)\n",
    "plt.tight_layout()\n",
    "plt.savefig('./result/filename.png', dpi=300)"
   ]
  }
 ],
 "metadata": {
  "kernelspec": {
   "display_name": "Python 3",
   "language": "python",
   "name": "python3"
  },
  "language_info": {
   "codemirror_mode": {
    "name": "ipython",
    "version": 3
   },
   "file_extension": ".py",
   "mimetype": "text/x-python",
   "name": "python",
   "nbconvert_exporter": "python",
   "pygments_lexer": "ipython3",
   "version": "3.8.8"
  }
 },
 "nbformat": 4,
 "nbformat_minor": 5
}
